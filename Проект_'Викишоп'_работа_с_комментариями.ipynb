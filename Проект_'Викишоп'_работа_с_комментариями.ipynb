{
  "nbformat": 4,
  "nbformat_minor": 0,
  "metadata": {
    "kernelspec": {
      "display_name": "Python 3",
      "language": "python",
      "name": "python3"
    },
    "language_info": {
      "codemirror_mode": {
        "name": "ipython",
        "version": 3
      },
      "file_extension": ".py",
      "mimetype": "text/x-python",
      "name": "python",
      "nbconvert_exporter": "python",
      "pygments_lexer": "ipython3",
      "version": "3.8.5"
    },
    "toc": {
      "base_numbering": 1,
      "nav_menu": {},
      "number_sections": true,
      "sideBar": true,
      "skip_h1_title": false,
      "title_cell": "Table of Contents",
      "title_sidebar": "Contents",
      "toc_cell": false,
      "toc_position": {},
      "toc_section_display": true,
      "toc_window_display": false
    },
    "colab": {
      "name": "Проект 'Викишоп' comments sh.ipynb",
      "provenance": [],
      "collapsed_sections": [
        "ELquKE83_Jmb"
      ]
    }
  },
  "cells": [
    {
      "cell_type": "markdown",
      "metadata": {
        "id": "gJTwOIAF_Jl-"
      },
      "source": [
        "<br>\n",
        "<font color='black' size=6> <b>Проект для «Викишоп»</b></font>\n",
        "<br><br>\n",
        "Интернет-магазин «Викишоп» запускает новый сервис. Теперь пользователи могут редактировать и дополнять описания товаров, как в вики-сообществах. То есть клиенты предлагают свои правки и комментируют изменения других. Магазину нужен инструмент, который будет искать токсичные комментарии и отправлять их на модерацию. \n",
        "\n",
        "Обучите модель классифицировать комментарии на позитивные и негативные. В вашем распоряжении набор данных с разметкой о токсичности правок.\n",
        "\n",
        "Постройте модель со значением метрики качества *F1* не меньше 0.75. \n",
        "\n",
        "**Инструкция по выполнению проекта**\n",
        "\n",
        "1. Загрузите и подготовьте данные.\n",
        "2. Обучите разные модели. \n",
        "3. Сделайте выводы.\n",
        "\n",
        "Для выполнения проекта применять *BERT* необязательно, но вы можете попробовать.\n",
        "\n",
        "**Описание данных**\n",
        "\n",
        "Данные находятся в файле `toxic_comments.csv`. Столбец *text* в нём содержит текст комментария, а *toxic* — целевой признак.\n",
        "\n",
        "___\n",
        "<a id=\"start\"></a><br>\n",
        "<font color='black' size=6> <b> Содержание</b></font><br><br>\n",
        "\n",
        "\n",
        "<font color='black' size=5> <b>1. Подготовка данных</b></font><br>\n",
        "\n",
        "\n",
        "   * <a href='#step_1'> Загружаем библиотеки </a>\n",
        "   * <a href='#step_1.1'> Откроем файл и изучим его </a>\n",
        "          - Путь к файлу: (/datasets/toxic_comments.csv)\n",
        "   * <a href='#step_1.2'> Лемматизируем текст и избавим его от лишних символов </a>\n",
        "       * <a href='#step_1.2.1'>Загрузим библиотеку для обработи текста </a>\n",
        "       * <a href='#step_1.2.2'> Создадим функцию по очистке данных</a>\n",
        "       * <a href='#step_1.2.3'> Создадим функцию которая будет использовать функцию по очистке слов и лемматизировать каждое слово</a>\n",
        "   * <a href='#step_1.3'> Посмотрим на распределение классов в данных</a>\n",
        "   * <a href='#step_1.4'> Разделим выборки</a>\n",
        "      * <a href='#step_1.4.1'> Проверим распределение класов в *тренировочной* выборке</a>\n",
        "      * <a href='#step_1.4.2'> Проверим распределение класов в *тестовой* выборке</a>\n",
        "      * <a href='#step_1.4.3'> Создадим функцию, для увеличения выборки по первому [1] классу данных и уменьшению выборки по нулевому [0] классу</a>\n",
        "   * <a href='#step_1.5'> Используем технологию TF-IDF для обработки наших данны, а так же отфильтруем содержимое при помощи библиотеки `nltk`</a>\n",
        "   * <a href='#step_1.end'> Вывод </a><br><br>\n",
        "\n",
        "<font color='black' size=5> <b>2. Обучение</b></font><br>\n",
        "\n",
        "   * <a href='#step_2'> Создадим функцию для вывода графика плотности распределения предсказанных и истинных значений </a>\n",
        "   * <a href='#step_2.1'> Создадим функцию для вывода матрицы предсказаний</a>\n",
        "   * <a href='#step_2.2'> Обучим модель `DecisionTreeClassifier`</a>\n",
        "   * <a href='#step_2.3'> Обучим модель `LogisticRegression`</a>\n",
        "   * <a href='#step_2.4'> Обучим модель `RandomForestClassifier`</a>\n",
        "   * <a href='#step_2.5'> Определим порог классификации для наилучшей модели `LogisticRegression`</a>\n",
        "   * <a href='#step_2.6'> Проверим выбранный порог для нашей модели</a>\n",
        "   * <a href='#step_2.7'> Вычислим ROC-AUC для наилучшей модели </a>\n",
        "  \n",
        "   * <a href='#step_2.end'> Вывод </a> <br><br>  \n",
        "      \n",
        "\n",
        "<font color='black' size=5> <b>3. Общий вывод</b></font><br>\n",
        "\n",
        "\n",
        "   * <a href='#step_3.end'> Вывод </a>\n",
        "<br><br>\n",
        "<font color='orange'><u>INFO</u>:<font color='gray'> При запуске ячеек, запустить <font color='green'><b><i>\"Restart & Run All\"\n",
        "\n",
        "----\n",
        "----"
      ]
    },
    {
      "cell_type": "markdown",
      "metadata": {
        "id": "i-FrkYvZ_JmG"
      },
      "source": [
        "<a id=\"step_1\"></a>\n",
        "<font color='black' size=4,5> <b> Загружаем библиотеки</b></font>"
      ]
    },
    {
      "cell_type": "code",
      "metadata": {
        "id": "eclPZ34n_JmG"
      },
      "source": [
        "import pandas as pd\n",
        "import numpy as np\n",
        "from sklearn.metrics import f1_score\n",
        "import warnings\n",
        "warnings.filterwarnings('ignore')\n",
        "from sklearn.model_selection import train_test_split\n",
        "from sklearn.tree import DecisionTreeClassifier\n",
        "from sklearn.linear_model import LogisticRegression\n",
        "from catboost import CatBoostClassifier\n",
        "from sklearn.metrics import confusion_matrix\n",
        "from tqdm.notebook import tqdm\n",
        "import matplotlib.pyplot as plt\n",
        "import seaborn as sns\n",
        "from sklearn.model_selection import GridSearchCV\n",
        "from sklearn.ensemble.forest import RandomForestClassifier\n",
        "from sklearn.metrics import make_scorer\n",
        "from sklearn.utils import shuffle\n",
        "import time\n",
        "from sklearn.feature_extraction.text import CountVectorizer \n",
        "import nltk\n",
        "from nltk.corpus import stopwords as nltk_stopwords\n",
        "from sklearn.feature_extraction.text import TfidfVectorizer \n",
        "from pymystem3 import Mystem\n",
        "import re \n",
        "from sklearn.metrics import classification_report\n",
        "from sklearn.metrics import precision_recall_curve\n",
        "from sklearn.metrics import precision_score, recall_score\n",
        "from sklearn.metrics import roc_curve \n",
        "from sklearn.metrics import roc_auc_score"
      ],
      "execution_count": null,
      "outputs": []
    },
    {
      "cell_type": "markdown",
      "metadata": {
        "id": "0ULRY5Zo_JmH"
      },
      "source": [
        "<a id=\"step_1.1\"></a>\n",
        "# Подготовка"
      ]
    },
    {
      "cell_type": "code",
      "metadata": {
        "id": "EkEFv4nN_JmH"
      },
      "source": [
        "data=pd.read_csv('/datasets/toxic_comments.csv')"
      ],
      "execution_count": null,
      "outputs": []
    },
    {
      "cell_type": "markdown",
      "metadata": {
        "id": "3KWPB-Mm_JmI"
      },
      "source": [
        "\n",
        "## Посмотрим на размер таблицы и информацию о данных"
      ]
    },
    {
      "cell_type": "code",
      "metadata": {
        "id": "4O3CVuFN_JmI",
        "outputId": "ccdbe497-d4cb-4f91-d879-08bf470481a6"
      },
      "source": [
        "data.shape"
      ],
      "execution_count": null,
      "outputs": [
        {
          "output_type": "execute_result",
          "data": {
            "text/plain": [
              "(159571, 2)"
            ]
          },
          "metadata": {
            "tags": []
          },
          "execution_count": 3
        }
      ]
    },
    {
      "cell_type": "code",
      "metadata": {
        "scrolled": true,
        "id": "p3Fxq-ND_JmJ",
        "outputId": "f468b646-1797-4878-efae-01de80cc0d3e"
      },
      "source": [
        "data.info()"
      ],
      "execution_count": null,
      "outputs": [
        {
          "output_type": "stream",
          "text": [
            "<class 'pandas.core.frame.DataFrame'>\n",
            "RangeIndex: 159571 entries, 0 to 159570\n",
            "Data columns (total 2 columns):\n",
            "text     159571 non-null object\n",
            "toxic    159571 non-null int64\n",
            "dtypes: int64(1), object(1)\n",
            "memory usage: 2.4+ MB\n"
          ],
          "name": "stdout"
        }
      ]
    },
    {
      "cell_type": "code",
      "metadata": {
        "scrolled": true,
        "id": "YpR9L_2g_JmJ",
        "outputId": "475debf0-1907-43f8-c5a6-041a0a1c779e"
      },
      "source": [
        "data.head()"
      ],
      "execution_count": null,
      "outputs": [
        {
          "output_type": "execute_result",
          "data": {
            "text/html": [
              "<div>\n",
              "<style scoped>\n",
              "    .dataframe tbody tr th:only-of-type {\n",
              "        vertical-align: middle;\n",
              "    }\n",
              "\n",
              "    .dataframe tbody tr th {\n",
              "        vertical-align: top;\n",
              "    }\n",
              "\n",
              "    .dataframe thead th {\n",
              "        text-align: right;\n",
              "    }\n",
              "</style>\n",
              "<table border=\"1\" class=\"dataframe\">\n",
              "  <thead>\n",
              "    <tr style=\"text-align: right;\">\n",
              "      <th></th>\n",
              "      <th>text</th>\n",
              "      <th>toxic</th>\n",
              "    </tr>\n",
              "  </thead>\n",
              "  <tbody>\n",
              "    <tr>\n",
              "      <td>0</td>\n",
              "      <td>Explanation\\nWhy the edits made under my usern...</td>\n",
              "      <td>0</td>\n",
              "    </tr>\n",
              "    <tr>\n",
              "      <td>1</td>\n",
              "      <td>D'aww! He matches this background colour I'm s...</td>\n",
              "      <td>0</td>\n",
              "    </tr>\n",
              "    <tr>\n",
              "      <td>2</td>\n",
              "      <td>Hey man, I'm really not trying to edit war. It...</td>\n",
              "      <td>0</td>\n",
              "    </tr>\n",
              "    <tr>\n",
              "      <td>3</td>\n",
              "      <td>\"\\nMore\\nI can't make any real suggestions on ...</td>\n",
              "      <td>0</td>\n",
              "    </tr>\n",
              "    <tr>\n",
              "      <td>4</td>\n",
              "      <td>You, sir, are my hero. Any chance you remember...</td>\n",
              "      <td>0</td>\n",
              "    </tr>\n",
              "  </tbody>\n",
              "</table>\n",
              "</div>"
            ],
            "text/plain": [
              "                                                text  toxic\n",
              "0  Explanation\\nWhy the edits made under my usern...      0\n",
              "1  D'aww! He matches this background colour I'm s...      0\n",
              "2  Hey man, I'm really not trying to edit war. It...      0\n",
              "3  \"\\nMore\\nI can't make any real suggestions on ...      0\n",
              "4  You, sir, are my hero. Any chance you remember...      0"
            ]
          },
          "metadata": {
            "tags": []
          },
          "execution_count": 5
        }
      ]
    },
    {
      "cell_type": "markdown",
      "metadata": {
        "id": "IvTitmkp_JmJ"
      },
      "source": [
        "<a id=\"step_1.2\"></a>\n",
        "## Лемматизируем текст и избавим его от лишних символов"
      ]
    },
    {
      "cell_type": "markdown",
      "metadata": {
        "id": "uMC_2TH1_JmJ"
      },
      "source": [
        "### Создадим корпус слов"
      ]
    },
    {
      "cell_type": "code",
      "metadata": {
        "id": "QhaOzeuM_JmK"
      },
      "source": [
        "corpus = list(data['text'])"
      ],
      "execution_count": null,
      "outputs": []
    },
    {
      "cell_type": "markdown",
      "metadata": {
        "id": "PNA9ufJo_JmK"
      },
      "source": [
        "<a id=\"step_1.2.1\"></a>\n",
        "### Загрузим библиотеку для обработи текста"
      ]
    },
    {
      "cell_type": "code",
      "metadata": {
        "scrolled": true,
        "id": "MfG-_mQf_JmK",
        "outputId": "8367ae37-6bfc-4f79-8e6f-1aee19c42726"
      },
      "source": [
        "nltk.download('wordnet')"
      ],
      "execution_count": null,
      "outputs": [
        {
          "output_type": "stream",
          "text": [
            "[nltk_data] Downloading package wordnet to /home/jovyan/nltk_data...\n",
            "[nltk_data]   Package wordnet is already up-to-date!\n"
          ],
          "name": "stderr"
        },
        {
          "output_type": "execute_result",
          "data": {
            "text/plain": [
              "True"
            ]
          },
          "metadata": {
            "tags": []
          },
          "execution_count": 7
        }
      ]
    },
    {
      "cell_type": "code",
      "metadata": {
        "id": "uYoZOwny_JmK",
        "outputId": "817684b7-71a4-4acf-850c-2408e703602a"
      },
      "source": [
        "nltk.download('averaged_perceptron_tagger')"
      ],
      "execution_count": null,
      "outputs": [
        {
          "output_type": "stream",
          "text": [
            "[nltk_data] Downloading package averaged_perceptron_tagger to\n",
            "[nltk_data]     /home/jovyan/nltk_data...\n",
            "[nltk_data]   Package averaged_perceptron_tagger is already up-to-\n",
            "[nltk_data]       date!\n"
          ],
          "name": "stderr"
        },
        {
          "output_type": "execute_result",
          "data": {
            "text/plain": [
              "True"
            ]
          },
          "metadata": {
            "tags": []
          },
          "execution_count": 178
        }
      ]
    },
    {
      "cell_type": "code",
      "metadata": {
        "id": "SvMtR1d4_JmL"
      },
      "source": [
        "from nltk.stem import WordNetLemmatizer\n",
        "lemmatizer = WordNetLemmatizer()"
      ],
      "execution_count": null,
      "outputs": []
    },
    {
      "cell_type": "markdown",
      "metadata": {
        "id": "1TEdRr6a_JmL"
      },
      "source": [
        "<a id=\"step_1.2.2\"></a>\n",
        "### Создадим функцию по очистке данных"
      ]
    },
    {
      "cell_type": "code",
      "metadata": {
        "id": "2lnkBnQX_JmL"
      },
      "source": [
        "def clear_text(text):\n",
        "    y=re.sub(r\"[^'a-zA-Z ]\", ' ', text) \n",
        "    k=\" \".join(y.split())\n",
        "    return k"
      ],
      "execution_count": null,
      "outputs": []
    },
    {
      "cell_type": "markdown",
      "metadata": {
        "id": "yrgzH3o-_JmL"
      },
      "source": [
        "<a id=\"step_1.2.3\"></a>\n",
        "### Создадим функцию которая будет использовать функцию по очистке слов и лемматизировать каждое слово"
      ]
    },
    {
      "cell_type": "code",
      "metadata": {
        "id": "AL15bkZd_JmL"
      },
      "source": [
        "from nltk.corpus import wordnet\n",
        "def get_wordnet_pos(word):\n",
        "    tag = nltk.pos_tag([word])[0][1][0].upper()\n",
        "    tag_dict = {\"J\": wordnet.ADJ,\n",
        "                \"N\": wordnet.NOUN,\n",
        "                \"V\": wordnet.VERB,\n",
        "                \"R\": wordnet.ADV}\n",
        "    return tag_dict.get(tag, wordnet.NOUN)"
      ],
      "execution_count": null,
      "outputs": []
    },
    {
      "cell_type": "markdown",
      "metadata": {
        "id": "2opNJ1s6_JmM"
      },
      "source": [
        "##### Проверим работу функции"
      ]
    },
    {
      "cell_type": "code",
      "metadata": {
        "id": "0e9vEJqC_JmM",
        "outputId": "f0420790-c9e4-4da2-da57-9ab9e0287494"
      },
      "source": [
        "test = \"The striped bats are hanging on their feet for best\"\n",
        "print([lemmatizer.lemmatize(w, get_wordnet_pos(w)) for w in nltk.word_tokenize(test)])"
      ],
      "execution_count": null,
      "outputs": [
        {
          "output_type": "stream",
          "text": [
            "['The', 'strip', 'bat', 'be', 'hang', 'on', 'their', 'foot', 'for', 'best']\n"
          ],
          "name": "stdout"
        }
      ]
    },
    {
      "cell_type": "markdown",
      "metadata": {
        "id": "5W9HWy13_JmM"
      },
      "source": [
        "##### Запустим преобразование текста"
      ]
    },
    {
      "cell_type": "code",
      "metadata": {
        "scrolled": true,
        "id": "3mhnp085_JmM",
        "colab": {
          "referenced_widgets": [
            "c9416b0f98604b03882d7b6c0ee6a334"
          ]
        },
        "outputId": "e416b32f-94f2-4559-f49b-63a05567865f"
      },
      "source": [
        "%%time\n",
        "def lemmafunction(textc):\n",
        "    k=[]\n",
        "    for i in nltk.word_tokenize(textc):\n",
        "        y=lemmatizer.lemmatize(i, get_wordnet_pos(i))\n",
        "        k.append(y)\n",
        "    return ' '.join(k) \n",
        "\n",
        "lemy=[]\n",
        "for i in tqdm(range(len(corpus))):\n",
        "    \n",
        "    lemy.append(lemmafunction(clear_text(corpus[i])))\n",
        "data['lemm_text']=pd.Series(lemy, index=data.index)"
      ],
      "execution_count": null,
      "outputs": [
        {
          "output_type": "display_data",
          "data": {
            "application/vnd.jupyter.widget-view+json": {
              "model_id": "c9416b0f98604b03882d7b6c0ee6a334",
              "version_major": 2,
              "version_minor": 0
            },
            "text/plain": [
              "HBox(children=(FloatProgress(value=0.0, max=159571.0), HTML(value='')))"
            ]
          },
          "metadata": {
            "tags": []
          }
        },
        {
          "output_type": "stream",
          "text": [
            "\n",
            "CPU times: user 32min 23s, sys: 2min 48s, total: 35min 11s\n",
            "Wall time: 36min 24s\n"
          ],
          "name": "stdout"
        }
      ]
    },
    {
      "cell_type": "markdown",
      "metadata": {
        "id": "wRhGp2RA_JmM"
      },
      "source": [
        "##### Проверим результат"
      ]
    },
    {
      "cell_type": "code",
      "metadata": {
        "id": "WFYO8uxt_JmN",
        "outputId": "67245fc1-1f0c-4065-b4f2-92c94dd8eee4"
      },
      "source": [
        "data['text'][3]"
      ],
      "execution_count": null,
      "outputs": [
        {
          "output_type": "execute_result",
          "data": {
            "text/plain": [
              "'\"\\nMore\\nI can\\'t make any real suggestions on improvement - I wondered if the section statistics should be later on, or a subsection of \"\"types of accidents\"\"  -I think the references may need tidying so that they are all in the exact same format ie date format etc. I can do that later on, if no-one else does first - if you have any preferences for formatting style on references or want to do it yourself please let me know.\\n\\nThere appears to be a backlog on articles for review so I guess there may be a delay until a reviewer turns up. It\\'s listed in the relevant form eg Wikipedia:Good_article_nominations#Transport  \"'"
            ]
          },
          "metadata": {
            "tags": []
          },
          "execution_count": 26
        }
      ]
    },
    {
      "cell_type": "code",
      "metadata": {
        "scrolled": false,
        "id": "sc_hRGQr_JmN",
        "outputId": "5bdc739e-8701-444b-d12f-f5f57ec69942"
      },
      "source": [
        "data['lemm_text'][3]"
      ],
      "execution_count": null,
      "outputs": [
        {
          "output_type": "execute_result",
          "data": {
            "text/plain": [
              "\"More I ca n't make any real suggestion on improvement I wonder if the section statistic should be later on or a subsection of type of accident I think the reference may need tidy so that they be all in the exact same format ie date format etc I can do that later on if no one else do first if you have any preference for format style on reference or want to do it yourself please let me know There appear to be a backlog on article for review so I guess there may be a delay until a reviewer turn up It 's list in the relevant form eg Wikipedia Good article nomination Transport\""
            ]
          },
          "metadata": {
            "tags": []
          },
          "execution_count": 27
        }
      ]
    },
    {
      "cell_type": "markdown",
      "metadata": {
        "id": "1CQrbA7A_JmN"
      },
      "source": [
        "<a id=\"step_1.3\"></a>\n",
        "## Посмотрим на распределение классов в данных"
      ]
    },
    {
      "cell_type": "code",
      "metadata": {
        "id": "xoBYUYDU_JmN",
        "outputId": "ed2c1929-1a3e-4ad4-ae03-e42b3fd0e00a"
      },
      "source": [
        "sns.set_style('darkgrid')\n",
        "data['toxic'].value_counts(normalize=True).plot(kind='pie',figsize=[5.5,5.5], legend=False, autopct='%1.1f%%',labels=['Отзыв токсичный, класс [0]','Отзыв не токсичный, класс [1]'])\n",
        "plt.title('Баланс распределения классов в данных')\n",
        "#plt.xlabel('Класс')\n",
        "plt.ylabel('')\n",
        "plt.show()"
      ],
      "execution_count": null,
      "outputs": [
        {
          "output_type": "display_data",
          "data": {
            "image/png": "[encoded data removed]",
            "text/plain": [
              "<Figure size 396x396 with 1 Axes>"
            ]
          },
          "metadata": {
            "tags": []
          }
        }
      ]
    },
    {
      "cell_type": "markdown",
      "metadata": {
        "id": "wU_7wHl8_JmN"
      },
      "source": [
        "<a id=\"step_1.4\"></a>\n",
        "## Разделим выборки"
      ]
    },
    {
      "cell_type": "markdown",
      "metadata": {
        "id": "B_Xywdpt_JmO"
      },
      "source": [
        "##### Разделим целевые значения и признаки"
      ]
    },
    {
      "cell_type": "code",
      "metadata": {
        "id": "eLAYXFBP_JmO"
      },
      "source": [
        "X=data.drop('toxic',axis=1)\n",
        "y=data['toxic']"
      ],
      "execution_count": null,
      "outputs": []
    },
    {
      "cell_type": "markdown",
      "metadata": {
        "id": "ZsRgpo47_JmO"
      },
      "source": [
        "##### Выполним разделение на тестовые и тренировочные данные"
      ]
    },
    {
      "cell_type": "code",
      "metadata": {
        "id": "279FXSyN_JmO"
      },
      "source": [
        "X_train, X_test, y_train, y_test = train_test_split(X, y, test_size=0.25, random_state=42, shuffle=True,stratify=y)"
      ],
      "execution_count": null,
      "outputs": []
    },
    {
      "cell_type": "markdown",
      "metadata": {
        "id": "OGHsrmm7_JmO"
      },
      "source": [
        "##### Проверим результат"
      ]
    },
    {
      "cell_type": "code",
      "metadata": {
        "scrolled": true,
        "id": "DVNwCAUW_JmO",
        "outputId": "191c4df2-6b7e-4b8c-8f54-e97767d46321"
      },
      "source": [
        "train_sample=X_train.shape[0]/X.shape[0]\n",
        "test_sample=X_test.shape[0]/X.shape[0]\n",
        "\n",
        "print('Размер тренировочной выборки- {:.0%}'.format(train_sample))\n",
        "print('Размер тестовой выборки - {:.0%}'.format(test_sample))"
      ],
      "execution_count": null,
      "outputs": [
        {
          "output_type": "stream",
          "text": [
            "Размер тренировочной выборки- 75%\n",
            "Размер тестовой выборки - 25%\n"
          ],
          "name": "stdout"
        }
      ]
    },
    {
      "cell_type": "markdown",
      "metadata": {
        "id": "TIyfZzXX_JmP"
      },
      "source": [
        "<a id=\"step_1.4.1\"></a>\n",
        "### Проверим распределение класов в *тренировочной* выборке"
      ]
    },
    {
      "cell_type": "code",
      "metadata": {
        "id": "Y3DCulhm_JmP",
        "outputId": "109ef940-68b5-440a-a5aa-dae1e95ff2b6"
      },
      "source": [
        "y_train.value_counts(normalize=True).plot(kind='pie',figsize=[5.5,5.5], legend=False, autopct='%1.1f%%',labels=['Отзыв токсичный, класс [0]','Отзыв не токсичный, класс [1]'])\n",
        "plt.title('Баланс распределения классов в тренировочных данных')\n",
        "plt.ylabel('')\n",
        "plt.show()"
      ],
      "execution_count": null,
      "outputs": [
        {
          "output_type": "display_data",
          "data": {
            "image/png": "[encoded data removed]",
            "text/plain": [
              "<Figure size 396x396 with 1 Axes>"
            ]
          },
          "metadata": {
            "tags": []
          }
        }
      ]
    },
    {
      "cell_type": "markdown",
      "metadata": {
        "id": "mJMgSCEK_JmP"
      },
      "source": [
        "<a id=\"step_1.4.2\"></a>\n",
        "### Проверим распределение класов в *тестовой* выборке"
      ]
    },
    {
      "cell_type": "code",
      "metadata": {
        "id": "D7LxWFns_JmP",
        "outputId": "f466d150-cb47-4d47-a95d-4601e9f8345b"
      },
      "source": [
        "y_test.value_counts(normalize=True).plot(kind='pie',figsize=[5.5,5.5], legend=False, autopct='%1.1f%%',labels=['Отзыв токсичный, класс [0]','Отзыв не токсичный, класс [1]'])\n",
        "plt.title('Баланс распределения классов в тестовых данных')\n",
        "plt.ylabel('')\n",
        "plt.show()"
      ],
      "execution_count": null,
      "outputs": [
        {
          "output_type": "display_data",
          "data": {
            "image/png": "[encoded data removed]",
            "text/plain": [
              "<Figure size 396x396 with 1 Axes>"
            ]
          },
          "metadata": {
            "tags": []
          }
        }
      ]
    },
    {
      "cell_type": "markdown",
      "metadata": {
        "id": "6muqz3lh_JmP"
      },
      "source": [
        "<a id=\"step_1.4.3\"></a>\n",
        "### Создадим функцию, для увеличения выборки по первому [1] классу данных и уменьшению выборки по нулевому [0] классу"
      ]
    },
    {
      "cell_type": "code",
      "metadata": {
        "id": "cExxncry_JmQ"
      },
      "source": [
        "def down_up_sample(features, target, fraction, repeat):\n",
        "    features_zeros = features[target == 0]\n",
        "    features_ones = features[target == 1]\n",
        "    target_zeros = target[target == 0]\n",
        "    target_ones = target[target == 1]\n",
        "\n",
        "    features_down_up = pd.concat([features_zeros.sample(frac=fraction, random_state=12345)] + [features_ones]*repeat)\n",
        "    target_down_up = pd.concat([target_zeros.sample(frac=fraction, random_state=12345)] + [target_ones]*repeat)\n",
        "    \n",
        "    features_down_up_sampled, target_down_up_sampled = shuffle(\n",
        "        features_down_up, target_down_up, random_state=12345)\n",
        "    \n",
        "    return features_down_up_sampled, target_down_up_sampled\n",
        "\n",
        "features_upsampled, target_upsampled  = down_up_sample(X_train, y_train, 0.6, 5)"
      ],
      "execution_count": null,
      "outputs": []
    },
    {
      "cell_type": "markdown",
      "metadata": {
        "id": "6zEMnlzu_JmQ"
      },
      "source": [
        "###### Проверим респределение "
      ]
    },
    {
      "cell_type": "code",
      "metadata": {
        "id": "8XTr7WcT_JmR",
        "outputId": "12218d57-5034-4627-ebc9-d5a02f330520"
      },
      "source": [
        "target_upsampled.value_counts(normalize=True).plot(kind='pie',figsize=[5.5,5.5], legend=False, autopct='%1.1f%%',labels=['Отзыв токсичный, класс [0]','Отзыв не токсичный, класс [1]'])\n",
        "plt.title('Баланс распределения классов в данных')\n",
        "plt.ylabel('')\n",
        "plt.show()"
      ],
      "execution_count": null,
      "outputs": [
        {
          "output_type": "display_data",
          "data": {
            "image/png": "[encoded data removed]",
            "text/plain": [
              "<Figure size 396x396 with 1 Axes>"
            ]
          },
          "metadata": {
            "tags": []
          }
        }
      ]
    },
    {
      "cell_type": "markdown",
      "metadata": {
        "id": "eno360A0_JmS"
      },
      "source": [
        "<a id=\"step_1.5\"></a>\n",
        "## Используем технологию TF-IDF для обработки наших данны, а так же отфильтруем <br><br>содержимое при помощи библиотеки `nltk`"
      ]
    },
    {
      "cell_type": "markdown",
      "metadata": {
        "id": "4AL4xCGa_JmS"
      },
      "source": [
        "##### Загрузим библиотеку и стоп-слова из английского языка"
      ]
    },
    {
      "cell_type": "code",
      "metadata": {
        "id": "dpSRHFUb_JmS",
        "outputId": "c0f9b252-ad68-4049-ffe1-03fc2d8112f5"
      },
      "source": [
        "nltk.download('stopwords') \n",
        "stop_words = set(nltk_stopwords.words('english')) "
      ],
      "execution_count": null,
      "outputs": [
        {
          "output_type": "stream",
          "text": [
            "[nltk_data] Downloading package stopwords to /home/jovyan/nltk_data...\n",
            "[nltk_data]   Package stopwords is already up-to-date!\n"
          ],
          "name": "stderr"
        }
      ]
    },
    {
      "cell_type": "markdown",
      "metadata": {
        "id": "wbNSHA9G_JmS"
      },
      "source": [
        "##### Создадим корпус из лемматизированных и очищенных слов"
      ]
    },
    {
      "cell_type": "code",
      "metadata": {
        "id": "lcm3_Pl3_JmS",
        "outputId": "27647bb8-6ae3-409e-cc0e-730d208e8f89"
      },
      "source": [
        "corpus_lemm_train = features_upsampled['lemm_text'].values.astype('U')\n",
        "corpus_lemm_train.shape"
      ],
      "execution_count": null,
      "outputs": [
        {
          "output_type": "execute_result",
          "data": {
            "text/plain": [
              "(125350,)"
            ]
          },
          "metadata": {
            "tags": []
          },
          "execution_count": 36
        }
      ]
    },
    {
      "cell_type": "markdown",
      "metadata": {
        "id": "Jggtvrw3_JmT"
      },
      "source": [
        "##### Применим модель `TfidfVectorizer` и обучим её на наших тренировочных данных"
      ]
    },
    {
      "cell_type": "code",
      "metadata": {
        "id": "qFpTXdat_JmT",
        "outputId": "a34e5241-0173-497e-c869-03f9c4faab1a"
      },
      "source": [
        "count_tf_idf = TfidfVectorizer(stop_words=stop_words,analyzer='word') \n",
        "tf_idf = count_tf_idf.fit_transform(corpus_lemm_train) \n",
        "tf_idf.shape"
      ],
      "execution_count": null,
      "outputs": [
        {
          "output_type": "execute_result",
          "data": {
            "text/plain": [
              "(125350, 102521)"
            ]
          },
          "metadata": {
            "tags": []
          },
          "execution_count": 37
        }
      ]
    },
    {
      "cell_type": "markdown",
      "metadata": {
        "id": "VU6msyyd_JmT"
      },
      "source": [
        "##### Создадим так же корпус слов и для тестовой выборки"
      ]
    },
    {
      "cell_type": "code",
      "metadata": {
        "id": "4beJjXFU_JmT",
        "outputId": "02c14dd7-961a-4da8-a656-6a5e7fdbc622"
      },
      "source": [
        "corpus_lemm_test = X_test['lemm_text'].values.astype('U')\n",
        "corpus_lemm_test.shape"
      ],
      "execution_count": null,
      "outputs": [
        {
          "output_type": "execute_result",
          "data": {
            "text/plain": [
              "(39893,)"
            ]
          },
          "metadata": {
            "tags": []
          },
          "execution_count": 38
        }
      ]
    },
    {
      "cell_type": "markdown",
      "metadata": {
        "id": "3jdMmpPR_JmT"
      },
      "source": [
        "##### Трансформируем тестовую выборку "
      ]
    },
    {
      "cell_type": "code",
      "metadata": {
        "scrolled": false,
        "id": "AS1wfuE7_JmT",
        "outputId": "41b4a36c-a886-4540-e317-99c04f7f5dfc"
      },
      "source": [
        "tf_test = count_tf_idf.transform(corpus_lemm_test)\n",
        "tf_test.shape"
      ],
      "execution_count": null,
      "outputs": [
        {
          "output_type": "execute_result",
          "data": {
            "text/plain": [
              "(39893, 102521)"
            ]
          },
          "metadata": {
            "tags": []
          },
          "execution_count": 39
        }
      ]
    },
    {
      "cell_type": "markdown",
      "metadata": {
        "id": "AOUSVjYj_JmU"
      },
      "source": [
        "<a id=\"step_1.end\"></a>\n",
        "## Вывод\n"
      ]
    },
    {
      "cell_type": "markdown",
      "metadata": {
        "id": "uI4aS7st_JmU"
      },
      "source": [
        "При ознакомлении с данными мы обнаружили, что они очень сильно разбалансированы в сторону негативного класса. При подготовке данных к обучению мы применили метод `upsampled` *- увеличения выборки с положительным классом* и `downsampled` *- уменьшение с отрицательным*, т.к. при обучении модель может принять за константное предсказание отрицательный класс и очень плохо предсказывать положительный, при этом качество метрики будет высоким, т.к. в тестовых данных так же присутствует сильный дисбаланс"
      ]
    },
    {
      "cell_type": "markdown",
      "metadata": {
        "id": "XV_-d4Wx_JmU"
      },
      "source": [
        "---\n",
        "---"
      ]
    },
    {
      "cell_type": "markdown",
      "metadata": {
        "id": "nma_gFUB_JmU"
      },
      "source": [
        "<a href='#start'>Вернуться к оглавлению</a>\n",
        "<a id=\"step_2\"></a>\n",
        "# Обучение"
      ]
    },
    {
      "cell_type": "markdown",
      "metadata": {
        "id": "OeR9nmR3_JmU"
      },
      "source": [
        "\n",
        "### Создадим функцию для вывода графика плотности распределения предсказанных и истинных значений"
      ]
    },
    {
      "cell_type": "code",
      "metadata": {
        "id": "Zw_Cbo_4_JmU"
      },
      "source": [
        "def graph_analis(true, predict):\n",
        "    f1 = f1_score(y_test, predict)\n",
        "    plt.figure(figsize=(10,6))\n",
        "    true.plot(kind='kde', linewidth=2)\n",
        "    pd.Series(predict).plot(kind='kde',linewidth=2)\n",
        "    plt.title('График распределения плотности предсказанных и истинных значений', y=1.01)\n",
        "    plt.legend(['Истинные значения','Предсказанные значения'])\n",
        "    plt.text(0.75,6,'F1= {:.2f}'.format(f1))\n",
        "    plt.xlabel('')\n",
        "    plt.ylabel('Плотность')\n",
        "    plt.show()"
      ],
      "execution_count": null,
      "outputs": []
    },
    {
      "cell_type": "markdown",
      "metadata": {
        "id": "un4FE6sR_JmU"
      },
      "source": [
        "<a id=\"step_2.1\"></a>\n",
        "### Создадим функцию для вывода матрицы предсказаний"
      ]
    },
    {
      "cell_type": "code",
      "metadata": {
        "id": "xnQgdkSx_JmV"
      },
      "source": [
        "def highlight_min(data, color='red'):\n",
        "    attr = 'color: {}'.format(color)\n",
        "    if data.ndim == 1:\n",
        "        is_min = data == data.min()\n",
        "        return [attr if v else '' for v in is_min]\n",
        "    else:  \n",
        "        is_min = data == data.min().min()\n",
        "        return pd.DataFrame(np.where(is_min, attr, ''),\n",
        "                            index=data.index, columns=data.columns)"
      ],
      "execution_count": null,
      "outputs": []
    },
    {
      "cell_type": "code",
      "metadata": {
        "id": "Z9Yczu_T_JmV"
      },
      "source": [
        "def create_colors(x):\n",
        "    df1 = x.copy()\n",
        "    df1.loc[:,:] = 'background-color: '\n",
        "    df1.loc['Predicted Positive(1)', 'Actually Negative(0)'] = 'background-color: coral'\n",
        "    df1.loc['Predicted Negative(0)', 'Actually Positive(1)'] = 'background-color: coral' \n",
        "    df1.loc['Predicted Positive(1)', 'Actually Positive(1)'] = 'background-color: springgreen'\n",
        "    df1.loc['Predicted Negative(0)','Actually Negative(0)'] = 'background-color: springgreen'\n",
        "\n",
        "    return df1      "
      ],
      "execution_count": null,
      "outputs": []
    },
    {
      "cell_type": "code",
      "metadata": {
        "id": "CVLEB48i_JmV"
      },
      "source": [
        "def conf_marix(predict):\n",
        "    table=pd.DataFrame(index=['Predicted Positive(1)','Predicted Negative(0)',], columns=['Actually Positive(1)','Actually Negative(0)','Difference'])\n",
        "    matrix=confusion_matrix(y_test, predict)\n",
        "    table['Actually Positive(1)']['Predicted Positive(1)']= 'TP  {:.0f}'.format(matrix[0][0])\n",
        "    table['Actually Positive(1)']['Predicted Negative(0)']= 'FN   {:.0f}'.format(matrix[1][0])\n",
        "\n",
        "    table['Actually Negative(0)']['Predicted Positive(1)']= 'FP  {:.0f}'.format(matrix[0][1])\n",
        "    table['Actually Negative(0)']['Predicted Negative(0)']= 'TN  {:.0f}'.format(matrix[1][1])\n",
        "    \n",
        "    table['Difference'][0] = abs(matrix[0][0] - matrix[0][1])\n",
        "    table['Difference'][1] = abs(matrix[1][1]- matrix[1][0])\n",
        "    return table.style.apply(create_colors, axis=None).apply(highlight_min, subset=['Difference'])"
      ],
      "execution_count": null,
      "outputs": []
    },
    {
      "cell_type": "markdown",
      "metadata": {
        "id": "GZKuwIZm_JmV"
      },
      "source": [
        "<a id=\"step_2.2\"></a>\n",
        "## Обучим модель `DecisionTreeClassifier`"
      ]
    },
    {
      "cell_type": "code",
      "metadata": {
        "scrolled": false,
        "id": "dIKmXzpT_JmV",
        "colab": {
          "referenced_widgets": [
            "5def43b72a48403b92ad04922234a261"
          ]
        },
        "outputId": "3fdf0e4a-2d09-4609-9ac4-5ea4000bb98d"
      },
      "source": [
        "%%time\n",
        "\n",
        "best_model_dt = None\n",
        "best_result_dt = 0\n",
        "best_depth_dt=0\n",
        "for depth in tqdm(range(1, 25, 3)):\n",
        "      \n",
        "    model_dt = DecisionTreeClassifier(random_state=12345, max_depth=depth,class_weight='balanced') \n",
        "    model_dt.fit(tf_idf,target_upsampled) \n",
        "    predict_dt=model_dt.predict(tf_test) \n",
        "    result_dt = f1_score(y_test, predict_dt)\n",
        "    if result_dt > best_result_dt:\n",
        "        best_model_dt = model_dt\n",
        "        best_result_dt = result_dt \n",
        "          \n",
        "        best_depth_dt = depth\n",
        "print(\"F1 наилучшей модели равно:\", best_result_dt.round(2), end='')\n",
        "print(' C глубиной:',best_depth_dt)"
      ],
      "execution_count": null,
      "outputs": [
        {
          "output_type": "display_data",
          "data": {
            "application/vnd.jupyter.widget-view+json": {
              "model_id": "5def43b72a48403b92ad04922234a261",
              "version_major": 2,
              "version_minor": 0
            },
            "text/plain": [
              "HBox(children=(FloatProgress(value=0.0, max=8.0), HTML(value='')))"
            ]
          },
          "metadata": {
            "tags": []
          }
        },
        {
          "output_type": "stream",
          "text": [
            "\n",
            "F1 наилучшей модели равно: 0.61 C глубиной: 22\n",
            "CPU times: user 1min 14s, sys: 0 ns, total: 1min 14s\n",
            "Wall time: 1min 16s\n"
          ],
          "name": "stdout"
        }
      ]
    },
    {
      "cell_type": "markdown",
      "metadata": {
        "id": "3ZwUJhHs_JmW"
      },
      "source": [
        "### Проверим подобранные значения гипрепапарметров модели `DecisionTreeClassifier` и посмотрим на отчёт метрик классификации"
      ]
    },
    {
      "cell_type": "code",
      "metadata": {
        "scrolled": true,
        "id": "5ZplH9jw_JmW"
      },
      "source": [
        "target_names=['Отзыв токсичный','Отзыв не токсичный']\n",
        "\n",
        "model_dt= DecisionTreeClassifier(random_state=12345, max_depth=best_depth_dt)\n",
        "model_dt.fit(tf_idf,target_upsampled)\n",
        "predicted_dt=model_dt.predict(tf_test)\n",
        "\n",
        "f1_forest_1 = f1_score(y_test, predicted_dt)\n",
        "print(classification_report(y_test, predicted_dt, target_names=target_names))\n",
        "print('Метрика F1 качества предсказания модели \"DecisionTreeClassifier\" равна :',f1_forest_1.round(2))"
      ],
      "execution_count": null,
      "outputs": []
    },
    {
      "cell_type": "markdown",
      "metadata": {
        "id": "GKPCJqNI_JmW"
      },
      "source": [
        "### Матрица предсказаний модели `DecisionTreeClassifier`"
      ]
    },
    {
      "cell_type": "code",
      "metadata": {
        "scrolled": true,
        "id": "7-nB4qSA_JmW",
        "outputId": "30dc8b3c-b4e2-4073-9ef4-09dc151f4d4c"
      },
      "source": [
        "conf_marix(predicted_dt)"
      ],
      "execution_count": null,
      "outputs": [
        {
          "output_type": "execute_result",
          "data": {
            "text/html": [
              "<style  type=\"text/css\" >\n",
              "    #T_e5bed69a_7690_11eb_8c33_02420a3993e7row0_col0 {\n",
              "            background-color:  springgreen;\n",
              "        }    #T_e5bed69a_7690_11eb_8c33_02420a3993e7row0_col1 {\n",
              "            background-color:  coral;\n",
              "        }    #T_e5bed69a_7690_11eb_8c33_02420a3993e7row0_col2 {\n",
              "            background-color:  ;\n",
              "            : ;\n",
              "        }    #T_e5bed69a_7690_11eb_8c33_02420a3993e7row1_col0 {\n",
              "            background-color:  coral;\n",
              "        }    #T_e5bed69a_7690_11eb_8c33_02420a3993e7row1_col1 {\n",
              "            background-color:  springgreen;\n",
              "        }    #T_e5bed69a_7690_11eb_8c33_02420a3993e7row1_col2 {\n",
              "            background-color:  ;\n",
              "            color:  red;\n",
              "        }</style><table id=\"T_e5bed69a_7690_11eb_8c33_02420a3993e7\" ><thead>    <tr>        <th class=\"blank level0\" ></th>        <th class=\"col_heading level0 col0\" >Actually Positive(1)</th>        <th class=\"col_heading level0 col1\" >Actually Negative(0)</th>        <th class=\"col_heading level0 col2\" >Difference</th>    </tr></thead><tbody>\n",
              "                <tr>\n",
              "                        <th id=\"T_e5bed69a_7690_11eb_8c33_02420a3993e7level0_row0\" class=\"row_heading level0 row0\" >Predicted Positive(1)</th>\n",
              "                        <td id=\"T_e5bed69a_7690_11eb_8c33_02420a3993e7row0_col0\" class=\"data row0 col0\" >TP  34916</td>\n",
              "                        <td id=\"T_e5bed69a_7690_11eb_8c33_02420a3993e7row0_col1\" class=\"data row0 col1\" >FP  921</td>\n",
              "                        <td id=\"T_e5bed69a_7690_11eb_8c33_02420a3993e7row0_col2\" class=\"data row0 col2\" >33995</td>\n",
              "            </tr>\n",
              "            <tr>\n",
              "                        <th id=\"T_e5bed69a_7690_11eb_8c33_02420a3993e7level0_row1\" class=\"row_heading level0 row1\" >Predicted Negative(0)</th>\n",
              "                        <td id=\"T_e5bed69a_7690_11eb_8c33_02420a3993e7row1_col0\" class=\"data row1 col0\" >FN   1879</td>\n",
              "                        <td id=\"T_e5bed69a_7690_11eb_8c33_02420a3993e7row1_col1\" class=\"data row1 col1\" >TN  2177</td>\n",
              "                        <td id=\"T_e5bed69a_7690_11eb_8c33_02420a3993e7row1_col2\" class=\"data row1 col2\" >298</td>\n",
              "            </tr>\n",
              "    </tbody></table>"
            ],
            "text/plain": [
              "<pandas.io.formats.style.Styler at 0x7fe5fe7aa810>"
            ]
          },
          "metadata": {
            "tags": []
          },
          "execution_count": 180
        }
      ]
    },
    {
      "cell_type": "markdown",
      "metadata": {
        "id": "AsyCWaiE_JmW"
      },
      "source": [
        "### График распределения плотности предсказанных значений"
      ]
    },
    {
      "cell_type": "code",
      "metadata": {
        "scrolled": false,
        "id": "NZrAjqxo_JmX",
        "outputId": "e674b168-8d5d-41f8-e313-0f58ca7024ca"
      },
      "source": [
        "graph_analis(y_test,predicted_dt)"
      ],
      "execution_count": null,
      "outputs": [
        {
          "output_type": "display_data",
          "data": {
            "image/png": "[encoded data removed]",
            "text/plain": [
              "<Figure size 720x432 with 1 Axes>"
            ]
          },
          "metadata": {
            "tags": []
          }
        }
      ]
    },
    {
      "cell_type": "markdown",
      "metadata": {
        "id": "yxClgGh5_JmX"
      },
      "source": [
        "---"
      ]
    },
    {
      "cell_type": "markdown",
      "metadata": {
        "id": "7roYd0TN_JmX"
      },
      "source": [
        "<a id=\"step_2.3\"></a>\n",
        "## Обучим модель `LogisticRegression` и подберём параметры при помощи <br><br>`GridSearchCV`"
      ]
    },
    {
      "cell_type": "code",
      "metadata": {
        "scrolled": false,
        "id": "G_xmksgQ_JmX",
        "outputId": "b142cd9c-cdf1-4295-d430-e7229e4f60d5"
      },
      "source": [
        "%%time\n",
        "\n",
        "clf_lr = LogisticRegression(random_state=12345, solver='sag',class_weight='balanced')\n",
        "parametrs_lr = { 'C': range (1, 10),\n",
        "              'max_iter': range (10,15,2),\n",
        "              }\n",
        "grid_lr = GridSearchCV(clf_lr, parametrs_lr, cv=3, scoring='f1')\n",
        "grid_lr.fit(tf_idf, target_upsampled)\n",
        "grid_lr.best_params_"
      ],
      "execution_count": null,
      "outputs": [
        {
          "output_type": "stream",
          "text": [
            "CPU times: user 1min 18s, sys: 22.4 ms, total: 1min 18s\n",
            "Wall time: 1min 19s\n"
          ],
          "name": "stdout"
        },
        {
          "output_type": "execute_result",
          "data": {
            "text/plain": [
              "{'C': 9, 'max_iter': 14}"
            ]
          },
          "metadata": {
            "tags": []
          },
          "execution_count": 49
        }
      ]
    },
    {
      "cell_type": "markdown",
      "metadata": {
        "id": "emH0fE9u_JmX"
      },
      "source": [
        "### Проверим подобранные значения гипрепапарметров наилучшей модели `LogisticRegression` и посмотрим на отчёт метрик классификации"
      ]
    },
    {
      "cell_type": "code",
      "metadata": {
        "id": "PexIXXlN_JmX",
        "outputId": "0b72351e-5edb-47ef-e5a2-9414bf6e3520"
      },
      "source": [
        "predicted_lr= grid_lr.predict(tf_test)\n",
        "\n",
        "f1_log_r_1 = f1_score(y_test, predicted_lr).round(2)\n",
        "print(classification_report(y_test, predicted_lr, target_names=target_names))\n",
        "print('Метрика F1 качества предсказания модели \"LogisticRegression\" равна :',f1_log_r_1)"
      ],
      "execution_count": null,
      "outputs": [
        {
          "output_type": "stream",
          "text": [
            "                    precision    recall  f1-score   support\n",
            "\n",
            "   Отзыв токсичный       0.98      0.96      0.97     35837\n",
            "Отзыв не токсичный       0.68      0.83      0.75      4056\n",
            "\n",
            "          accuracy                           0.94     39893\n",
            "         macro avg       0.83      0.89      0.86     39893\n",
            "      weighted avg       0.95      0.94      0.95     39893\n",
            "\n",
            "Метрика F1 качества предсказания модели \"LogisticRegression\" равна : 0.75\n"
          ],
          "name": "stdout"
        }
      ]
    },
    {
      "cell_type": "markdown",
      "metadata": {
        "id": "DSHIsTbc_JmY"
      },
      "source": [
        "### Матрица предсказаний модели `LogisticRegression`"
      ]
    },
    {
      "cell_type": "code",
      "metadata": {
        "scrolled": true,
        "id": "zwbijHwc_JmY",
        "outputId": "7d080e63-ac04-4181-c53e-8ab21916912d"
      },
      "source": [
        "conf_marix(predicted_lr)"
      ],
      "execution_count": null,
      "outputs": [
        {
          "output_type": "execute_result",
          "data": {
            "text/html": [
              "<style  type=\"text/css\" >\n",
              "    #T_eaabcef6_7690_11eb_8c33_02420a3993e7row0_col0 {\n",
              "            background-color:  springgreen;\n",
              "        }    #T_eaabcef6_7690_11eb_8c33_02420a3993e7row0_col1 {\n",
              "            background-color:  coral;\n",
              "        }    #T_eaabcef6_7690_11eb_8c33_02420a3993e7row0_col2 {\n",
              "            background-color:  ;\n",
              "            : ;\n",
              "        }    #T_eaabcef6_7690_11eb_8c33_02420a3993e7row1_col0 {\n",
              "            background-color:  coral;\n",
              "        }    #T_eaabcef6_7690_11eb_8c33_02420a3993e7row1_col1 {\n",
              "            background-color:  springgreen;\n",
              "        }    #T_eaabcef6_7690_11eb_8c33_02420a3993e7row1_col2 {\n",
              "            background-color:  ;\n",
              "            color:  red;\n",
              "        }</style><table id=\"T_eaabcef6_7690_11eb_8c33_02420a3993e7\" ><thead>    <tr>        <th class=\"blank level0\" ></th>        <th class=\"col_heading level0 col0\" >Actually Positive(1)</th>        <th class=\"col_heading level0 col1\" >Actually Negative(0)</th>        <th class=\"col_heading level0 col2\" >Difference</th>    </tr></thead><tbody>\n",
              "                <tr>\n",
              "                        <th id=\"T_eaabcef6_7690_11eb_8c33_02420a3993e7level0_row0\" class=\"row_heading level0 row0\" >Predicted Positive(1)</th>\n",
              "                        <td id=\"T_eaabcef6_7690_11eb_8c33_02420a3993e7row0_col0\" class=\"data row0 col0\" >TP  34233</td>\n",
              "                        <td id=\"T_eaabcef6_7690_11eb_8c33_02420a3993e7row0_col1\" class=\"data row0 col1\" >FP  1604</td>\n",
              "                        <td id=\"T_eaabcef6_7690_11eb_8c33_02420a3993e7row0_col2\" class=\"data row0 col2\" >32629</td>\n",
              "            </tr>\n",
              "            <tr>\n",
              "                        <th id=\"T_eaabcef6_7690_11eb_8c33_02420a3993e7level0_row1\" class=\"row_heading level0 row1\" >Predicted Negative(0)</th>\n",
              "                        <td id=\"T_eaabcef6_7690_11eb_8c33_02420a3993e7row1_col0\" class=\"data row1 col0\" >FN   673</td>\n",
              "                        <td id=\"T_eaabcef6_7690_11eb_8c33_02420a3993e7row1_col1\" class=\"data row1 col1\" >TN  3383</td>\n",
              "                        <td id=\"T_eaabcef6_7690_11eb_8c33_02420a3993e7row1_col2\" class=\"data row1 col2\" >2710</td>\n",
              "            </tr>\n",
              "    </tbody></table>"
            ],
            "text/plain": [
              "<pandas.io.formats.style.Styler at 0x7fe5fe78fe10>"
            ]
          },
          "metadata": {
            "tags": []
          },
          "execution_count": 181
        }
      ]
    },
    {
      "cell_type": "markdown",
      "metadata": {
        "id": "W-AKSnRu_JmY"
      },
      "source": [
        "### График распределения плотности предсказанных значений"
      ]
    },
    {
      "cell_type": "code",
      "metadata": {
        "id": "axROkaEm_JmY",
        "outputId": "5e9127c7-adf8-4ea1-e9a7-22a5b8fd7b16"
      },
      "source": [
        "graph_analis(y_test,predicted_lr)"
      ],
      "execution_count": null,
      "outputs": [
        {
          "output_type": "display_data",
          "data": {
            "image/png": "[encoded data removed]",
            "text/plain": [
              "<Figure size 720x432 with 1 Axes>"
            ]
          },
          "metadata": {
            "tags": []
          }
        }
      ]
    },
    {
      "cell_type": "markdown",
      "metadata": {
        "id": "LMDGd0Vr_JmY"
      },
      "source": [
        "----"
      ]
    },
    {
      "cell_type": "markdown",
      "metadata": {
        "id": "JnklfTl-_JmY"
      },
      "source": [
        "<a id=\"step_2.4\"></a>\n",
        "## Обучим модель `RandomForestClassifier`"
      ]
    },
    {
      "cell_type": "code",
      "metadata": {
        "id": "izQVy8so_JmZ",
        "colab": {
          "referenced_widgets": [
            "0f32933ed0e449adb881a419a1a27c4b"
          ]
        },
        "outputId": "b22200b4-4f93-40ac-ac75-07d371042e6f"
      },
      "source": [
        "%%time\n",
        "\n",
        "best_model_rf = None\n",
        "best_result_rf = 0\n",
        "best_depth_rf=0\n",
        "for est in tqdm(range(1, 12, 4)):\n",
        "      \n",
        "    model_rf = RandomForestClassifier(random_state=12345, n_estimators=est,class_weight='balanced_subsample') \n",
        "    model_rf.fit(tf_idf,target_upsampled) \n",
        "    predict_rf=model_rf.predict(tf_test) \n",
        "    result_rf = f1_score(y_test, predict_rf)\n",
        "    if result_rf > best_result_rf:\n",
        "        best_model_rf = model_rf\n",
        "        best_result_rf = result_rf\n",
        "          \n",
        "        best_depth_rf = est\n",
        "print(\"F1 наилучшей модели равно:\", best_result_rf.round(2), end='')\n",
        "print(' C глубиной:',best_depth_rf)"
      ],
      "execution_count": null,
      "outputs": [
        {
          "output_type": "display_data",
          "data": {
            "application/vnd.jupyter.widget-view+json": {
              "model_id": "0f32933ed0e449adb881a419a1a27c4b",
              "version_major": 2,
              "version_minor": 0
            },
            "text/plain": [
              "HBox(children=(FloatProgress(value=0.0, max=3.0), HTML(value='')))"
            ]
          },
          "metadata": {
            "tags": []
          }
        },
        {
          "output_type": "stream",
          "text": [
            "\n",
            "F1 наилучшей модели равно: 0.69 C глубиной: 9\n",
            "CPU times: user 1min 39s, sys: 74.3 ms, total: 1min 39s\n",
            "Wall time: 1min 39s\n"
          ],
          "name": "stdout"
        }
      ]
    },
    {
      "cell_type": "markdown",
      "metadata": {
        "id": "GDpm_UaK_JmZ"
      },
      "source": [
        "### Проверим подобранные значения гипрепапарметров модели `RandomForestClassifier` и посмотрим на отчёт метрик классификации"
      ]
    },
    {
      "cell_type": "code",
      "metadata": {
        "scrolled": false,
        "id": "5h3kvTjl_JmZ",
        "outputId": "7b717dd4-144f-4346-d1d2-1304866629d7"
      },
      "source": [
        "predict_rfc=model_rf.predict(tf_test)\n",
        "f1_random_forest = f1_score(y_test, predict_rfc)\n",
        "print(classification_report(y_test, predict_rfc, target_names=target_names))\n",
        "print('Метрика F1 качества предсказания модели \"RandomForestClassifier\" равна :',f1_random_forest.round(2))"
      ],
      "execution_count": null,
      "outputs": [
        {
          "output_type": "stream",
          "text": [
            "                    precision    recall  f1-score   support\n",
            "\n",
            "   Отзыв токсичный       0.96      0.98      0.97     35837\n",
            "Отзыв не токсичный       0.78      0.62      0.69      4056\n",
            "\n",
            "          accuracy                           0.94     39893\n",
            "         macro avg       0.87      0.80      0.83     39893\n",
            "      weighted avg       0.94      0.94      0.94     39893\n",
            "\n",
            "Метрика F1 качества предсказания модели \"RandomForestClassifier\" равна : 0.69\n"
          ],
          "name": "stdout"
        }
      ]
    },
    {
      "cell_type": "markdown",
      "metadata": {
        "id": "9X2-nsJt_JmZ"
      },
      "source": [
        "### Матрица предсказаний модели `RandomForestClassifier`"
      ]
    },
    {
      "cell_type": "code",
      "metadata": {
        "scrolled": false,
        "id": "ylY8euVs_JmZ",
        "outputId": "7a060337-eb98-4675-83c3-e0ec13818096"
      },
      "source": [
        "conf_marix(predict_rfc)"
      ],
      "execution_count": null,
      "outputs": [
        {
          "output_type": "execute_result",
          "data": {
            "text/html": [
              "<style  type=\"text/css\" >\n",
              "    #T_f65d1688_7690_11eb_8c33_02420a3993e7row0_col0 {\n",
              "            background-color:  springgreen;\n",
              "        }    #T_f65d1688_7690_11eb_8c33_02420a3993e7row0_col1 {\n",
              "            background-color:  coral;\n",
              "        }    #T_f65d1688_7690_11eb_8c33_02420a3993e7row0_col2 {\n",
              "            background-color:  ;\n",
              "            : ;\n",
              "        }    #T_f65d1688_7690_11eb_8c33_02420a3993e7row1_col0 {\n",
              "            background-color:  coral;\n",
              "        }    #T_f65d1688_7690_11eb_8c33_02420a3993e7row1_col1 {\n",
              "            background-color:  springgreen;\n",
              "        }    #T_f65d1688_7690_11eb_8c33_02420a3993e7row1_col2 {\n",
              "            background-color:  ;\n",
              "            color:  red;\n",
              "        }</style><table id=\"T_f65d1688_7690_11eb_8c33_02420a3993e7\" ><thead>    <tr>        <th class=\"blank level0\" ></th>        <th class=\"col_heading level0 col0\" >Actually Positive(1)</th>        <th class=\"col_heading level0 col1\" >Actually Negative(0)</th>        <th class=\"col_heading level0 col2\" >Difference</th>    </tr></thead><tbody>\n",
              "                <tr>\n",
              "                        <th id=\"T_f65d1688_7690_11eb_8c33_02420a3993e7level0_row0\" class=\"row_heading level0 row0\" >Predicted Positive(1)</th>\n",
              "                        <td id=\"T_f65d1688_7690_11eb_8c33_02420a3993e7row0_col0\" class=\"data row0 col0\" >TP  35114</td>\n",
              "                        <td id=\"T_f65d1688_7690_11eb_8c33_02420a3993e7row0_col1\" class=\"data row0 col1\" >FP  723</td>\n",
              "                        <td id=\"T_f65d1688_7690_11eb_8c33_02420a3993e7row0_col2\" class=\"data row0 col2\" >34391</td>\n",
              "            </tr>\n",
              "            <tr>\n",
              "                        <th id=\"T_f65d1688_7690_11eb_8c33_02420a3993e7level0_row1\" class=\"row_heading level0 row1\" >Predicted Negative(0)</th>\n",
              "                        <td id=\"T_f65d1688_7690_11eb_8c33_02420a3993e7row1_col0\" class=\"data row1 col0\" >FN   1528</td>\n",
              "                        <td id=\"T_f65d1688_7690_11eb_8c33_02420a3993e7row1_col1\" class=\"data row1 col1\" >TN  2528</td>\n",
              "                        <td id=\"T_f65d1688_7690_11eb_8c33_02420a3993e7row1_col2\" class=\"data row1 col2\" >1000</td>\n",
              "            </tr>\n",
              "    </tbody></table>"
            ],
            "text/plain": [
              "<pandas.io.formats.style.Styler at 0x7fe5fe7fa410>"
            ]
          },
          "metadata": {
            "tags": []
          },
          "execution_count": 182
        }
      ]
    },
    {
      "cell_type": "markdown",
      "metadata": {
        "id": "Vf9hAUvR_JmZ"
      },
      "source": [
        "### График распределения плотности предсказанных значений"
      ]
    },
    {
      "cell_type": "code",
      "metadata": {
        "scrolled": false,
        "id": "Zg1uSjrf_Jma",
        "outputId": "92a73b4f-2b15-4a2b-cdf0-c1b9e98a925e"
      },
      "source": [
        "graph_analis(y_test,predict_rfc)"
      ],
      "execution_count": null,
      "outputs": [
        {
          "output_type": "display_data",
          "data": {
            "image/png": "[encoded data removed]",
            "text/plain": [
              "<Figure size 720x432 with 1 Axes>"
            ]
          },
          "metadata": {
            "tags": []
          }
        }
      ]
    },
    {
      "cell_type": "markdown",
      "metadata": {
        "id": "Ygely1c4_Jma"
      },
      "source": [
        "<a id=\"step_2.5\"></a>\n",
        "## Определим порог классификации для наилучшей модели `LogisticRegression`"
      ]
    },
    {
      "cell_type": "markdown",
      "metadata": {
        "id": "LRmETwEH_Jma"
      },
      "source": [
        "### Для начала определим вероятность возникновения положительного класса"
      ]
    },
    {
      "cell_type": "code",
      "metadata": {
        "id": "AQrh97AS_Jma",
        "outputId": "1eaa501d-6b32-437b-90af-69d4bd71aacb"
      },
      "source": [
        "probabilities=grid_lr.predict_proba(tf_test)\n",
        "probabilities_one = probabilities[:, 1]\n",
        "print(\"Вероятность положительного класса:\",probabilities_one[:5])"
      ],
      "execution_count": null,
      "outputs": [
        {
          "output_type": "stream",
          "text": [
            "Вероятность положительного класса: [0.03204474 0.00652658 0.04831519 0.02787483 0.01251171]\n"
          ],
          "name": "stdout"
        }
      ]
    },
    {
      "cell_type": "markdown",
      "metadata": {
        "id": "EYV5oyu4_Jma"
      },
      "source": [
        "### Переберём в цикле значения F1, точности, полноты и выберем порог классификации"
      ]
    },
    {
      "cell_type": "code",
      "metadata": {
        "scrolled": false,
        "id": "ZoMrM0bv_Jma",
        "outputId": "4642148c-8fbb-4e89-fb6b-77299bf3f539"
      },
      "source": [
        "for threshold in np.arange(0.4, 0.9, 0.02):\n",
        "    predicted_v = probabilities_one > threshold\n",
        "    precision = precision_score(y_test,predicted_v)\n",
        "    recall = recall_score(y_test,predicted_v) \n",
        "    f1 = f1_score(y_test,predicted_v)\n",
        "    print(\"Порог = {:.2f} | Точность = {:.3f}, Полнота = {:.3f}, F1 = {:.3f}\".format(\n",
        "        threshold, precision, recall, f1))"
      ],
      "execution_count": null,
      "outputs": [
        {
          "output_type": "stream",
          "text": [
            "Порог = 0.40 | Точность = 0.625, Полнота = 0.858, F1 = 0.723\n",
            "Порог = 0.42 | Точность = 0.636, Полнота = 0.854, F1 = 0.729\n",
            "Порог = 0.44 | Точность = 0.646, Полнота = 0.848, F1 = 0.733\n",
            "Порог = 0.46 | Точность = 0.657, Полнота = 0.843, F1 = 0.738\n",
            "Порог = 0.48 | Точность = 0.668, Полнота = 0.839, F1 = 0.744\n",
            "Порог = 0.50 | Точность = 0.678, Полнота = 0.834, F1 = 0.748\n",
            "Порог = 0.52 | Точность = 0.690, Полнота = 0.829, F1 = 0.753\n",
            "Порог = 0.54 | Точность = 0.700, Полнота = 0.822, F1 = 0.756\n",
            "Порог = 0.56 | Точность = 0.710, Полнота = 0.815, F1 = 0.759\n",
            "Порог = 0.58 | Точность = 0.719, Полнота = 0.808, F1 = 0.761\n",
            "Порог = 0.60 | Точность = 0.728, Полнота = 0.803, F1 = 0.764\n",
            "Порог = 0.62 | Точность = 0.735, Полнота = 0.796, F1 = 0.764\n",
            "Порог = 0.64 | Точность = 0.743, Полнота = 0.790, F1 = 0.766\n",
            "Порог = 0.66 | Точность = 0.755, Полнота = 0.782, F1 = 0.768\n",
            "Порог = 0.68 | Точность = 0.764, Полнота = 0.774, F1 = 0.769\n",
            "Порог = 0.70 | Точность = 0.777, Полнота = 0.767, F1 = 0.772\n",
            "Порог = 0.72 | Точность = 0.787, Полнота = 0.760, F1 = 0.773\n",
            "Порог = 0.74 | Точность = 0.796, Полнота = 0.753, F1 = 0.774\n",
            "Порог = 0.76 | Точность = 0.804, Полнота = 0.746, F1 = 0.774\n",
            "Порог = 0.78 | Точность = 0.813, Полнота = 0.738, F1 = 0.774\n",
            "Порог = 0.80 | Точность = 0.821, Полнота = 0.731, F1 = 0.773\n",
            "Порог = 0.82 | Точность = 0.831, Полнота = 0.721, F1 = 0.772\n",
            "Порог = 0.84 | Точность = 0.843, Полнота = 0.709, F1 = 0.770\n",
            "Порог = 0.86 | Точность = 0.854, Полнота = 0.700, F1 = 0.769\n",
            "Порог = 0.88 | Точность = 0.864, Полнота = 0.687, F1 = 0.766\n"
          ],
          "name": "stdout"
        }
      ]
    },
    {
      "cell_type": "markdown",
      "metadata": {
        "id": "ELquKE83_Jmb"
      },
      "source": [
        "### Отобразим на графике кривую зависимости точности предсказания от полноты"
      ]
    },
    {
      "cell_type": "code",
      "metadata": {
        "id": "nGoiXaMT_Jmb",
        "outputId": "1d63d61c-ff90-4917-fb41-74e1de1f85d6"
      },
      "source": [
        "precision, recall, thresholds = precision_recall_curve(y_test, probabilities[:, 1])\n",
        "plt.figure(figsize=(7, 7))\n",
        "plt.step(recall, precision, where='post')\n",
        "plt.xlabel('Recall')\n",
        "plt.ylabel('Precision')\n",
        "plt.ylim([0.0, 1.02])\n",
        "plt.xlim([0.0, 1.02])\n",
        "plt.title('Кривая Precision-Recall')\n",
        "plt.show() "
      ],
      "execution_count": null,
      "outputs": [
        {
          "output_type": "display_data",
          "data": {
            "image/png": "[encoded data removed]",
            "text/plain": [
              "<Figure size 504x504 with 1 Axes>"
            ]
          },
          "metadata": {
            "tags": []
          }
        }
      ]
    },
    {
      "cell_type": "markdown",
      "metadata": {
        "id": "cSdS7nHi_Jmb"
      },
      "source": [
        "#####  Пороговое значение 0,76 выглидит наиболее оптимальным для нашей модели"
      ]
    },
    {
      "cell_type": "code",
      "metadata": {
        "id": "zSpaSJ9c_Jmb",
        "outputId": "b17af912-bb2f-4ec4-bf2e-ef034f650fb8"
      },
      "source": [
        "predicted_rf_threshold=(probabilities_one>0.76)*1\n",
        "print(classification_report(y_test,predicted_rf_threshold, target_names=target_names))"
      ],
      "execution_count": null,
      "outputs": [
        {
          "output_type": "stream",
          "text": [
            "                    precision    recall  f1-score   support\n",
            "\n",
            "   Отзыв токсичный       0.97      0.98      0.98     35837\n",
            "Отзыв не токсичный       0.80      0.75      0.77      4056\n",
            "\n",
            "          accuracy                           0.96     39893\n",
            "         macro avg       0.89      0.86      0.87     39893\n",
            "      weighted avg       0.95      0.96      0.95     39893\n",
            "\n"
          ],
          "name": "stdout"
        }
      ]
    },
    {
      "cell_type": "markdown",
      "metadata": {
        "id": "WapM-pbl_Jmb"
      },
      "source": [
        "<a id=\"step_2.6\"></a>\n",
        "## Проверим выбранный порог для нашей модели"
      ]
    },
    {
      "cell_type": "markdown",
      "metadata": {
        "id": "u4LqCHds_Jmc"
      },
      "source": [
        "### Выполним предсказания с выбранным порогом"
      ]
    },
    {
      "cell_type": "code",
      "metadata": {
        "id": "yiTtgmBx_Jmc",
        "outputId": "86c94c90-2456-4d62-fadf-c175044eea18"
      },
      "source": [
        "predicted_test=(grid_lr.predict_proba(tf_test)[:,1] > 0.76)*1\n",
        "f1_log_r_1 = f1_score(y_test, predicted_test).round(2)\n",
        "print('Метрика F1 качества предсказания наилучшей модели с порогом классификации 0,76 равна : ',f1_log_r_1)"
      ],
      "execution_count": null,
      "outputs": [
        {
          "output_type": "stream",
          "text": [
            "Метрика F1 качества предсказания наилучшей модели с порогом классификации 0,76 равна :  0.77\n"
          ],
          "name": "stdout"
        }
      ]
    },
    {
      "cell_type": "markdown",
      "metadata": {
        "id": "LZ-NPTRL_Jmc"
      },
      "source": [
        "### Матрица предсказаний наилучшей модели"
      ]
    },
    {
      "cell_type": "code",
      "metadata": {
        "scrolled": false,
        "id": "NEVJavU3_Jmc",
        "outputId": "c9e587aa-2fa6-46e7-8f74-b678350d05cd"
      },
      "source": [
        "conf_marix(predicted_test)"
      ],
      "execution_count": null,
      "outputs": [
        {
          "output_type": "execute_result",
          "data": {
            "text/html": [
              "<style  type=\"text/css\" >\n",
              "    #T_f8fdf36c_7690_11eb_8c33_02420a3993e7row0_col0 {\n",
              "            background-color:  springgreen;\n",
              "        }    #T_f8fdf36c_7690_11eb_8c33_02420a3993e7row0_col1 {\n",
              "            background-color:  coral;\n",
              "        }    #T_f8fdf36c_7690_11eb_8c33_02420a3993e7row0_col2 {\n",
              "            background-color:  ;\n",
              "            : ;\n",
              "        }    #T_f8fdf36c_7690_11eb_8c33_02420a3993e7row1_col0 {\n",
              "            background-color:  coral;\n",
              "        }    #T_f8fdf36c_7690_11eb_8c33_02420a3993e7row1_col1 {\n",
              "            background-color:  springgreen;\n",
              "        }    #T_f8fdf36c_7690_11eb_8c33_02420a3993e7row1_col2 {\n",
              "            background-color:  ;\n",
              "            color:  red;\n",
              "        }</style><table id=\"T_f8fdf36c_7690_11eb_8c33_02420a3993e7\" ><thead>    <tr>        <th class=\"blank level0\" ></th>        <th class=\"col_heading level0 col0\" >Actually Positive(1)</th>        <th class=\"col_heading level0 col1\" >Actually Negative(0)</th>        <th class=\"col_heading level0 col2\" >Difference</th>    </tr></thead><tbody>\n",
              "                <tr>\n",
              "                        <th id=\"T_f8fdf36c_7690_11eb_8c33_02420a3993e7level0_row0\" class=\"row_heading level0 row0\" >Predicted Positive(1)</th>\n",
              "                        <td id=\"T_f8fdf36c_7690_11eb_8c33_02420a3993e7row0_col0\" class=\"data row0 col0\" >TP  35101</td>\n",
              "                        <td id=\"T_f8fdf36c_7690_11eb_8c33_02420a3993e7row0_col1\" class=\"data row0 col1\" >FP  736</td>\n",
              "                        <td id=\"T_f8fdf36c_7690_11eb_8c33_02420a3993e7row0_col2\" class=\"data row0 col2\" >34365</td>\n",
              "            </tr>\n",
              "            <tr>\n",
              "                        <th id=\"T_f8fdf36c_7690_11eb_8c33_02420a3993e7level0_row1\" class=\"row_heading level0 row1\" >Predicted Negative(0)</th>\n",
              "                        <td id=\"T_f8fdf36c_7690_11eb_8c33_02420a3993e7row1_col0\" class=\"data row1 col0\" >FN   1032</td>\n",
              "                        <td id=\"T_f8fdf36c_7690_11eb_8c33_02420a3993e7row1_col1\" class=\"data row1 col1\" >TN  3024</td>\n",
              "                        <td id=\"T_f8fdf36c_7690_11eb_8c33_02420a3993e7row1_col2\" class=\"data row1 col2\" >1992</td>\n",
              "            </tr>\n",
              "    </tbody></table>"
            ],
            "text/plain": [
              "<pandas.io.formats.style.Styler at 0x7fe5fe7fa450>"
            ]
          },
          "metadata": {
            "tags": []
          },
          "execution_count": 183
        }
      ]
    },
    {
      "cell_type": "markdown",
      "metadata": {
        "id": "37QtuOMS_Jmc"
      },
      "source": [
        "### График распределения плотности предсказанных значений наилучшей модели"
      ]
    },
    {
      "cell_type": "code",
      "metadata": {
        "id": "Secvh17I_Jmc",
        "outputId": "8bc45a0a-e223-4332-cbfd-4c9391321040"
      },
      "source": [
        "graph_analis(y_test,predicted_test)"
      ],
      "execution_count": null,
      "outputs": [
        {
          "output_type": "display_data",
          "data": {
            "image/png": "[encoded data removed]",
            "text/plain": [
              "<Figure size 720x432 with 1 Axes>"
            ]
          },
          "metadata": {
            "tags": []
          }
        }
      ]
    },
    {
      "cell_type": "markdown",
      "metadata": {
        "id": "tA5x1-pH_Jmd"
      },
      "source": [
        "<a id=\"step_2.7\"></a>\n",
        "## Вычислим ROC-AUC для наилучшей модели"
      ]
    },
    {
      "cell_type": "code",
      "metadata": {
        "id": "CPytdwHS_Jmd",
        "outputId": "40d029a1-1d6b-49be-cfdc-dc6ff64d1777"
      },
      "source": [
        "fpr, tpr, thresholds = roc_curve(y_test, probabilities_one)\n",
        "auc_roc = roc_auc_score(y_test,probabilities_one)\n",
        "print('ROC-AUC: {:.2f}'.format(auc_roc))"
      ],
      "execution_count": null,
      "outputs": [
        {
          "output_type": "stream",
          "text": [
            "ROC-AUC: 0.96\n"
          ],
          "name": "stdout"
        }
      ]
    },
    {
      "cell_type": "markdown",
      "metadata": {
        "id": "j2FRJJRG_Jmd"
      },
      "source": [
        "### Построим график для наглядности распределения значений"
      ]
    },
    {
      "cell_type": "code",
      "metadata": {
        "id": "4KQT6lsp_Jmd",
        "outputId": "e340d2f9-cde5-4b03-aa2e-e2ec0ce4d5d9"
      },
      "source": [
        "plt.figure(figsize=(7,7))\n",
        "plt.plot(fpr, tpr,linewidth=2)\n",
        "plt.plot([0, 1], [0, 1], linestyle='--',linewidth=2)\n",
        "plt.xlim([-0.01, 1.01])\n",
        "plt.ylim([-0.01, 1.01])\n",
        "plt.text(0.2,0.65,'ROC-AUC = {:.2f}'.format(auc_roc))\n",
        "plt.xlabel('False Positive Rate')\n",
        "plt.ylabel('True Positive Rate')\n",
        "plt.title('ROC-кривая')\n",
        "plt.show()"
      ],
      "execution_count": null,
      "outputs": [
        {
          "output_type": "display_data",
          "data": {
            "image/png": "[encoded data removed]",
            "text/plain": [
              "<Figure size 504x504 with 1 Axes>"
            ]
          },
          "metadata": {
            "tags": []
          }
        }
      ]
    },
    {
      "cell_type": "markdown",
      "metadata": {
        "id": "sP35lF22_Jmd"
      },
      "source": [
        "<a id=\"step_2.end\"></a>\n",
        "## Вывод"
      ]
    },
    {
      "cell_type": "markdown",
      "metadata": {
        "id": "XKOnL5Sb_Jmd"
      },
      "source": [
        "### Сведём интересующие нас данные в одну таблицу для наглядности"
      ]
    },
    {
      "cell_type": "code",
      "metadata": {
        "id": "xyxfc095_Jme",
        "outputId": "69b5510c-65bf-43e7-ca1f-c98580521031"
      },
      "source": [
        "comparison_tabl = pd.DataFrame(index=['F1-мера'], columns=['Дерево решений','Cлучайный лес','Логистическая регрессия'])\n",
        "comparison_tabl['Дерево решений'] = best_result_dt.round(2)\n",
        "comparison_tabl['Cлучайный лес'] = f1_random_forest.round(2)\n",
        "comparison_tabl['Логистическая регрессия'] = f1_log_r_1\n",
        "comparison_tabl.T"
      ],
      "execution_count": null,
      "outputs": [
        {
          "output_type": "execute_result",
          "data": {
            "text/html": [
              "<div>\n",
              "<style scoped>\n",
              "    .dataframe tbody tr th:only-of-type {\n",
              "        vertical-align: middle;\n",
              "    }\n",
              "\n",
              "    .dataframe tbody tr th {\n",
              "        vertical-align: top;\n",
              "    }\n",
              "\n",
              "    .dataframe thead th {\n",
              "        text-align: right;\n",
              "    }\n",
              "</style>\n",
              "<table border=\"1\" class=\"dataframe\">\n",
              "  <thead>\n",
              "    <tr style=\"text-align: right;\">\n",
              "      <th></th>\n",
              "      <th>F1-мера</th>\n",
              "    </tr>\n",
              "  </thead>\n",
              "  <tbody>\n",
              "    <tr>\n",
              "      <td>Дерево решений</td>\n",
              "      <td>0.61</td>\n",
              "    </tr>\n",
              "    <tr>\n",
              "      <td>Cлучайный лес</td>\n",
              "      <td>0.69</td>\n",
              "    </tr>\n",
              "    <tr>\n",
              "      <td>Логистическая регрессия</td>\n",
              "      <td>0.77</td>\n",
              "    </tr>\n",
              "  </tbody>\n",
              "</table>\n",
              "</div>"
            ],
            "text/plain": [
              "                         F1-мера\n",
              "Дерево решений              0.61\n",
              "Cлучайный лес               0.69\n",
              "Логистическая регрессия     0.77"
            ]
          },
          "metadata": {
            "tags": []
          },
          "execution_count": 66
        }
      ]
    },
    {
      "cell_type": "markdown",
      "metadata": {
        "id": "SY7kO8TK_Jme"
      },
      "source": [
        "Очевидно что модель `LogisticRegression` показала наилучший результат при обучении набрав пороговое значение метрики $F1 = 0.75$ и мы улучшили это значение метрики до $0.77$ подобрав оптимальнй порог в $0.76$"
      ]
    },
    {
      "cell_type": "markdown",
      "metadata": {
        "id": "U5hke8U__Jme"
      },
      "source": [
        "---\n",
        "---"
      ]
    },
    {
      "cell_type": "markdown",
      "metadata": {
        "id": "GPLWsQGl_Jme"
      },
      "source": [
        "<a href='#start'>Вернуться к оглавлению</a>\n",
        "<a id=\"step_3.end\"></a>\n",
        "# Общий Вывод"
      ]
    },
    {
      "cell_type": "markdown",
      "metadata": {
        "id": "zgfi42Ym_Jme"
      },
      "source": [
        "   Нашей целью было найти и обучить модель для магазина \"**ВИКИШОП**\", которая способна классифицировать комментарии на позитивные и негативные для того, чтобы  в дальнейшем токсичные отзывы отправлялись на модерацию. При этом достигуть результата предсказания наилучшей модели по мерке $F1$ не меньше $0.75$<br>\n",
        "   \n",
        "   В нашем распоряжении был набор данных с разметкой о токсичности правок, но для правильной работы предсказательных алгоритмов моделей нам пришлось очистить комментарии от лишних символов и пр.мусора, а так же прибегнуть к балансировке выборок методами `upsample` и `downsamle`, т.к. сильный дисбаланс в классах мог негативно повлиять на качество предсказания моделей. <br>\n",
        "   \n",
        "   Для определения наилучшей модели мы остановили наш выбор на трёх моделях `DecisionTreeClassifier`,`LogisticRegression` и  `RandomForestClassifier`. По итогам сравнеиня победила модель `LogisticRegression` и после побора порогового значения, набрала значение метрики $F1=0.77$<br>\n",
        "   \n",
        "   Таким образом мы справились с поставленной задачей и для магазина \"**ВИКИШОП**\" можем смело рекомендовать к использованию в своей работе нашу модель!"
      ]
    },
    {
      "cell_type": "markdown",
      "metadata": {
        "id": "62WAdz6y_Jme"
      },
      "source": [
        "---"
      ]
    }
  ]
}